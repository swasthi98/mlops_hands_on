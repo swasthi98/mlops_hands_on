{
  "cells": [
    {
      "cell_type": "code",
      "execution_count": 1,
      "metadata": {
        "id": "SasVVD0EoLNu",
        "outputId": "8d5e9208-a8e5-4870-faa7-fbf1efc46659",
        "colab": {
          "base_uri": "https://localhost:8080/"
        }
      },
      "outputs": [
        {
          "output_type": "stream",
          "name": "stdout",
          "text": [
            "\u001b[?25l   \u001b[90m━━━━━━━━━━━━━━━━━━━━━━━━━━━━━━━━━━━━━━━━\u001b[0m \u001b[32m0.0/2.8 MB\u001b[0m \u001b[31m?\u001b[0m eta \u001b[36m-:--:--\u001b[0m\r\u001b[2K   \u001b[91m━━━━━━━━━━━━━━━━━━━━━━━━━━━━━━━━━━━\u001b[0m\u001b[90m╺\u001b[0m\u001b[90m━━━━\u001b[0m \u001b[32m2.5/2.8 MB\u001b[0m \u001b[31m74.2 MB/s\u001b[0m eta \u001b[36m0:00:01\u001b[0m\r\u001b[2K   \u001b[90m━━━━━━━━━━━━━━━━━━━━━━━━━━━━━━━━━━━━━━━━\u001b[0m \u001b[32m2.8/2.8 MB\u001b[0m \u001b[31m45.3 MB/s\u001b[0m eta \u001b[36m0:00:00\u001b[0m\n",
            "\u001b[?25h"
          ]
        }
      ],
      "source": [
        "!pip install torch -q duckduckgo_search"
      ]
    },
    {
      "cell_type": "code",
      "execution_count": 2,
      "metadata": {
        "id": "dYW_u_1RoLNy"
      },
      "outputs": [],
      "source": [
        "from duckduckgo_search import DDGS\n"
      ]
    },
    {
      "cell_type": "code",
      "source": [
        "search_term = \"dog\""
      ],
      "metadata": {
        "id": "ll-95CSCoi5N"
      },
      "execution_count": 50,
      "outputs": []
    },
    {
      "cell_type": "code",
      "execution_count": 51,
      "metadata": {
        "id": "SzS0aTo3oLNy"
      },
      "outputs": [],
      "source": [
        "# Function to get image urls from duck duck go search engine\n",
        "def get_images(name, num=200):\n",
        "  \"\"\"Function to get image urls from duck duck go search engine\"\"\"\n",
        "  images = []\n",
        "  with DDGS() as ddgs:\n",
        "      keywords = name\n",
        "      ddgs_images_gen = ddgs.images(\n",
        "        keywords,\n",
        "        region=\"wt-wt\",\n",
        "        safesearch=\"off\",\n",
        "        # size=\"Medium\",\n",
        "        type_image=\"photo\",\n",
        "        layout=None,\n",
        "        license_image=\"any\",\n",
        "        max_results=num,\n",
        "      )\n",
        "      for r in ddgs_images_gen:\n",
        "          images.append(r['image'])\n",
        "\n",
        "  return images\n"
      ]
    },
    {
      "cell_type": "code",
      "execution_count": 52,
      "metadata": {
        "id": "q3QADX5VoLNz"
      },
      "outputs": [],
      "source": [
        "# downloading 200 dog imges\n",
        "imgs_gen = get_images(search_term, 200)\n"
      ]
    },
    {
      "cell_type": "code",
      "execution_count": 53,
      "metadata": {
        "id": "6buEkwyooLN0"
      },
      "outputs": [],
      "source": [
        "output = \"images.json\"\n",
        "\n",
        "import json\n",
        "with open(\"{}\".format(output), \"w\") as fp:\n",
        "  json.dump(imgs_gen, fp)"
      ]
    },
    {
      "cell_type": "code",
      "execution_count": 54,
      "metadata": {
        "id": "gGW3y2rUoLN0"
      },
      "outputs": [],
      "source": [
        "with open(\"{}\".format(output), \"r\") as fp:\n",
        "  data = json.load(fp)"
      ]
    },
    {
      "cell_type": "code",
      "source": [
        "data"
      ],
      "metadata": {
        "id": "tgtvbkZYo2qy",
        "outputId": "dc8e6866-e545-4467-e5e1-780058526390",
        "colab": {
          "base_uri": "https://localhost:8080/"
        }
      },
      "execution_count": 55,
      "outputs": [
        {
          "output_type": "execute_result",
          "data": {
            "text/plain": [
              "['http://www.publicdomainpictures.net/pictures/40000/velka/golden-retriever-dog-1362597631o6g.jpg',\n",
              " 'http://upload.wikimedia.org/wikipedia/commons/d/dd/White_German_Shepherd_Dog_Posing.jpg',\n",
              " 'http://www.publicdomainpictures.net/pictures/50000/velka/golden-retriever-dog-1370773977VyS.jpg',\n",
              " 'http://www.publicdomainpictures.net/pictures/40000/velka/golden-retriever-dog-13626034344hq.jpg',\n",
              " 'http://www.publicdomainpictures.net/pictures/40000/velka/happy-dog.jpg',\n",
              " 'http://www.publicdomainpictures.net/pictures/60000/velka/cute-puppy-dog-13787538957mW.jpg',\n",
              " 'http://www.publicdomainpictures.net/pictures/40000/velka/great-dane-dog-1364924632aWu.jpg',\n",
              " 'http://www.publicdomainpictures.net/pictures/40000/velka/dog-close-up.jpg',\n",
              " 'http://www.publicdomainpictures.net/pictures/40000/velka/golden-retriever-dog.jpg',\n",
              " 'http://upload.wikimedia.org/wikipedia/commons/5/54/20110425_German_Shepherd_Dog_8473.jpg',\n",
              " 'http://upload.wikimedia.org/wikipedia/commons/4/46/My_pomeranian_dog.jpg',\n",
              " 'http://www.publicdomainpictures.net/pictures/40000/velka/cute-dog-1362593345bn4.jpg',\n",
              " 'http://www.publicdomainpictures.net/pictures/150000/velka/dog-playing.jpg',\n",
              " 'http://www.publicdomainpictures.net/pictures/40000/velka/dog-sitting-pretty.jpg',\n",
              " 'http://upload.wikimedia.org/wikipedia/commons/f/f5/German_Shepherd_Dog_sitting_leash.jpg',\n",
              " 'https://www.publicdomainpictures.net/pictures/90000/velka/happy-dog-14012514959u7.jpg',\n",
              " 'https://www.publicdomainpictures.net/pictures/60000/velka/dog-great-dane.jpg',\n",
              " 'http://www.publicdomainpictures.net/pictures/170000/velka/dog-1463218026uIC.jpg',\n",
              " 'https://www.publicdomainpictures.net/pictures/100000/velka/schnauzer-dog-14115746703c8.jpg',\n",
              " 'http://upload.wikimedia.org/wikipedia/commons/8/82/2008-06-26_White_German_Shepherd_Dog_Posing_3.jpg',\n",
              " 'http://www.publicdomainpictures.net/pictures/20000/velka/dog-lying-871290171642HzS.jpg',\n",
              " 'https://c.pxhere.com/photos/6f/8c/dog_puppy_cute_love_animal_adorable_pet_fur-477801.jpg!d',\n",
              " 'https://www.publicdomainpictures.net/pictures/60000/velka/dog-1376774356C4M.jpg',\n",
              " 'http://upload.wikimedia.org/wikipedia/commons/f/f4/Chihuahua_Dog_001.jpg',\n",
              " 'http://www.publicdomainpictures.net/pictures/40000/velka/boxer-dog.jpg',\n",
              " 'http://www.publicdomainpictures.net/pictures/30000/velka/smiling-dog.jpg',\n",
              " 'http://upload.wikimedia.org/wikipedia/commons/4/47/American_Eskimo_Dog.jpg',\n",
              " 'http://www.publicdomainpictures.net/pictures/80000/velka/dog-shih-tzu-1394479369qCW.jpg',\n",
              " 'https://c.pxhere.com/photos/35/5a/dog_beige_fur_animal_pet_portrait_cute_light_brown-537484.jpg!d',\n",
              " 'http://www.publicdomainpictures.net/pictures/30000/velka/smiling-dog-1355804583CQq.jpg',\n",
              " 'https://c.pxhere.com/photos/51/64/dog_dogs_pet_holland_model_outdoor_posing_animal-1004187.jpg!d',\n",
              " 'http://www.publicdomainpictures.net/pictures/40000/velka/dog-1362222090IV1.jpg',\n",
              " 'http://upload.wikimedia.org/wikipedia/commons/a/a1/Australian_Cattle_Dog_sitting.jpg',\n",
              " 'https://c.pxhere.com/photos/9d/13/dog_husky_siberian_animal_pet_canine_cute_friend-570457.jpg!d',\n",
              " 'http://www.publicdomainpictures.net/pictures/50000/velka/dog-1373127384GhB.jpg',\n",
              " 'http://upload.wikimedia.org/wikipedia/commons/9/93/Pomeranian_Dog_-_Kolkata_2011-10-31_6440.JPG',\n",
              " 'http://upload.wikimedia.org/wikipedia/commons/e/ec/Terrier_mixed-breed_dog.jpg',\n",
              " 'http://upload.wikimedia.org/wikipedia/commons/a/a5/Newfoundland_dog_Smoky.jpg',\n",
              " 'https://pngimg.com/uploads/dog/dog_PNG50322.png',\n",
              " 'http://upload.wikimedia.org/wikipedia/commons/6/69/Funny_dog.jpg',\n",
              " 'https://www.publicdomainpictures.net/pictures/40000/velka/happy-dog-running.jpg',\n",
              " 'https://c.pxhere.com/photos/84/4c/beagle_dog_canine_portrait_cute_attentive_looking_sitting-1057588.jpg!d',\n",
              " 'http://www.publicdomainpictures.net/pictures/40000/velka/boxer-dog-1364062726Qkk.jpg',\n",
              " 'http://www.publicdomainpictures.net/pictures/50000/velka/happy-dog-1369496977GjE.jpg',\n",
              " 'http://upload.wikimedia.org/wikipedia/commons/3/3d/Pomeranian_dog.jpg',\n",
              " 'https://c.pxhere.com/photos/d3/ad/dog_labrador_retriever_black_lab_labrador_retriever_pet_animal_canine-870171.jpg!d',\n",
              " 'http://www.publicdomainpictures.net/pictures/40000/velka/dog-resting.jpg',\n",
              " 'http://www.publicdomainpictures.net/pictures/30000/velka/dog-1349074812Hpj.jpg',\n",
              " 'https://pngimg.com/uploads/dog/dog_PNG50382.png',\n",
              " 'https://pngimg.com/uploads/dog/dog_PNG50396.png',\n",
              " 'http://www.publicdomainpictures.net/pictures/40000/velka/bored-dog-portrait.jpg',\n",
              " 'https://www.publicdomainpictures.net/pictures/50000/velka/dog-running-dalmatian-puppy.jpg',\n",
              " 'http://www.publicdomainpictures.net/pictures/60000/velka/german-shepherd-dog-1376919962IQm.jpg',\n",
              " 'http://www.publicdomainpictures.net/pictures/30000/velka/old-dog.jpg',\n",
              " 'https://pngimg.com/uploads/dog/dog_PNG50360.png',\n",
              " 'https://www.publicdomainpictures.net/pictures/40000/velka/pekingese-dog.jpg',\n",
              " 'http://upload.wikimedia.org/wikipedia/commons/8/8d/Pug_dog_nose_face_detail.JPG',\n",
              " 'http://www.publicdomainpictures.net/pictures/40000/velka/cute-dog-1364063120lnA.jpg',\n",
              " 'http://www.publicdomainpictures.net/pictures/70000/velka/dog-1383497018oHw.jpg',\n",
              " 'http://publicdomainpictures.net/pictures/40000/velka/labrador-dog-portrait.jpg',\n",
              " 'https://www.publicdomainpictures.net/pictures/50000/velka/dog-1372846324D4I.jpg',\n",
              " 'http://www.publicdomainpictures.net/pictures/50000/velka/dog-1373176550XAu.jpg',\n",
              " 'http://www.publicdomainpictures.net/pictures/170000/velka/dog-1463218466GR9.jpg',\n",
              " 'https://c.pxhere.com/photos/0f/d3/pug_purebred_dog_beige_cute_funny-567352.jpg!d',\n",
              " 'https://www.publicdomainpictures.net/pictures/40000/velka/golden-retriever-dog-135923295203I.jpg',\n",
              " 'http://upload.wikimedia.org/wikipedia/commons/1/17/Dog.in.sleep.jpg',\n",
              " 'http://www.publicdomainpictures.net/pictures/40000/velka/bernese-mountain-dog.jpg',\n",
              " 'http://www.publicdomainpictures.net/pictures/170000/velka/dog-1463219230ksC.jpg',\n",
              " 'http://www.publicdomainpictures.net/pictures/60000/velka/german-shepherd-dog-137720915729M.jpg',\n",
              " 'http://upload.wikimedia.org/wikipedia/commons/2/2e/Can_Setter_dog_GFDL.jpg',\n",
              " 'http://upload.wikimedia.org/wikipedia/commons/f/f6/St_Bernard_Dog_001.jpg',\n",
              " 'https://pngimg.com/uploads/dog/dog_PNG50307.png',\n",
              " 'http://www.publicdomainpictures.net/pictures/40000/velka/frowning-dog.jpg',\n",
              " 'http://www.publicdomainpictures.net/pictures/20000/velka/sleeping-dog-87129017161956E.jpg',\n",
              " 'https://www.publicdomainpictures.net/pictures/60000/velka/dog-1377897984eFb.jpg',\n",
              " 'https://www.publicdomainpictures.net/pictures/40000/velka/dog-1362027680IyA.jpg',\n",
              " 'https://pngimg.com/uploads/dog/dog_PNG50276.png',\n",
              " 'http://www.publicdomainpictures.net/pictures/40000/velka/sad-dog.jpg',\n",
              " 'https://www.publicdomainpictures.net/pictures/40000/velka/cute-puppy-dog-13626627873wL.jpg',\n",
              " 'http://www.publicdomainpictures.net/pictures/160000/velka/happy-little-dog.jpg',\n",
              " 'http://www.publicdomainpictures.net/pictures/30000/velka/cute-dog-1352367773JBj.jpg',\n",
              " 'https://www.publicdomainpictures.net/pictures/40000/velka/cute-puppy-dog.jpg',\n",
              " 'http://publicdomainpictures.net/pictures/40000/velka/happy-running-dog.jpg',\n",
              " 'https://c.pxhere.com/photos/12/ea/collie_mini_colli_young_animal_dog_cute_sweet_animal_fur-807277.jpg!d',\n",
              " 'http://upload.wikimedia.org/wikipedia/commons/f/f1/Prairie_Dog_Washington_Zoo.JPG',\n",
              " 'https://www.publicdomainpictures.net/pictures/200000/velka/dog-border-collie.jpg',\n",
              " 'http://www.publicdomainpictures.net/pictures/40000/velka/rough-collie-dog-1365447402YrJ.jpg',\n",
              " 'http://www.publicdomainpictures.net/pictures/170000/velka/dog-1463219033JJm.jpg',\n",
              " 'https://www.publicdomainpictures.net/pictures/40000/velka/samoyed-dog.jpg',\n",
              " 'https://www.publicdomainpictures.net/pictures/40000/velka/dog-portrait-1362587109cPl.jpg',\n",
              " 'http://publicdomainpictures.net/pictures/40000/velka/dalmatian-puppy-dog.jpg',\n",
              " 'https://www.publicdomainpictures.net/pictures/40000/velka/cute-dog-portrait.jpg',\n",
              " 'http://www.publicdomainpictures.net/pictures/40000/velka/rough-collie-dog-1364826831vnm.jpg',\n",
              " 'http://publicdomainpictures.net/pictures/40000/velka/great-dane-puppy-dog.jpg',\n",
              " 'http://www.publicdomainpictures.net/pictures/40000/velka/labrador-dog-1362609655W6O.jpg',\n",
              " 'http://publicdomainpictures.net/pictures/40000/velka/poodle-dog-portrait.jpg',\n",
              " 'http://www.publicdomainpictures.net/pictures/200000/velka/dog-weimaraner-portrait.jpg',\n",
              " 'http://www.publicdomainpictures.net/pictures/40000/velka/rough-collie-dog-1361732766Q2h.jpg',\n",
              " 'https://www.publicdomainpictures.net/pictures/40000/velka/labrador-dog-isolated.jpg',\n",
              " 'http://www.publicdomainpictures.net/pictures/10000/velka/akita-dog-profile-23441281976784OrNM.jpg',\n",
              " 'http://publicdomainpictures.net/pictures/80000/velka/dog-boxer.jpg',\n",
              " 'http://upload.wikimedia.org/wikipedia/commons/e/e5/Boston_Terrier_Dog_002.jpg',\n",
              " 'http://www.publicdomainpictures.net/pictures/40000/velka/poodle-dog.jpg',\n",
              " 'http://publicdomainpictures.net/pictures/40000/velka/shih-tzu-dog-1362590229Idp.jpg',\n",
              " 'https://www.publicdomainpictures.net/pictures/200000/velka/dalmatian-dog-14774187356fX.jpg',\n",
              " 'https://upload.wikimedia.org/wikipedia/commons/d/d8/Brouwn_chiwawa_dog.JPG',\n",
              " 'https://c.pxhere.com/photos/62/da/pug_purebred_dog_beige_cute_funny-567355.jpg!d',\n",
              " 'https://www.publicdomainpictures.net/pictures/80000/velka/dog-shih-tzu-1394479188x42.jpg',\n",
              " 'http://publicdomainpictures.net/pictures/40000/velka/bernese-mountain-dog-1362594678Y90.jpg',\n",
              " 'https://c.pxhere.com/photos/35/80/pitbull_fawn_canine_puppy_pet_animal_dog_domestic-1294275.jpg!d',\n",
              " 'https://www.publicdomainpictures.net/pictures/70000/velka/dog-1386170837csN.jpg',\n",
              " 'https://c.pxhere.com/photos/7c/f7/dog_each_pets_devotion-795621.jpg!d',\n",
              " 'https://c.pxhere.com/photos/8d/bd/bernese_mountain_dog_puppy_berner_close-640345.jpg!d',\n",
              " 'https://c.pxhere.com/photos/59/25/dog_pet_pets_dogs_nature_animals_nikon_straydogs-279078.jpg!d',\n",
              " 'http://upload.wikimedia.org/wikipedia/commons/9/94/My_dog.jpg',\n",
              " 'http://www.publicdomainpictures.net/pictures/40000/velka/whippet-dog.jpg',\n",
              " 'http://www.publicdomainpictures.net/pictures/40000/velka/dog-yawning.jpg',\n",
              " 'http://www.publicdomainpictures.net/pictures/80000/velka/dog-1392408144V0W.jpg',\n",
              " 'https://libreshot.com/wp-content/uploads/2016/06/angry-dog.jpg',\n",
              " 'https://c.pxhere.com/photos/71/6c/german_dog_shepherd_pet_animal_domestic_mammal_young-1006609.jpg!d',\n",
              " 'https://pngimg.com/uploads/dog/dog_PNG50402.png',\n",
              " 'https://pngimg.com/uploads/dog/dog_PNG50281.png',\n",
              " 'http://upload.wikimedia.org/wikipedia/commons/2/23/Dog_retrieving_stick.jpg',\n",
              " 'https://pngimg.com/uploads/dog/dog_PNG50410.png',\n",
              " 'http://www.publicdomainpictures.net/pictures/10000/velka/dirty-dog-23441281531018bD3I.jpg',\n",
              " 'http://pngimg.com/uploads/dog/dog_PNG50290.png',\n",
              " 'http://www.publicdomainpictures.net/pictures/30000/velka/dog-nose.jpg',\n",
              " 'http://www.publicdomainpictures.net/pictures/140000/velka/warning-dog.jpg',\n",
              " 'https://www.publicdomainpictures.net/pictures/230000/velka/prairie-dog-1499093839TCl.jpg',\n",
              " 'https://c.pxhere.com/photos/ef/40/puggle_dog_smiling_moby_funny_cute_elvis_lip_pug-1393624.jpg!d',\n",
              " 'https://c.pxhere.com/photos/67/06/dogs_pet_animal_mammal-912655.jpg!d',\n",
              " 'http://www.publicdomainpictures.net/pictures/50000/velka/dog-1374221400myr.jpg',\n",
              " 'http://publicdomainpictures.net/pictures/70000/velka/dog-1386012879AN8.jpg',\n",
              " 'https://www.publicdomainpictures.net/pictures/30000/velka/puppy-dog.jpg',\n",
              " 'http://upload.wikimedia.org/wikipedia/en/8/81/Canaan_dog.jpg',\n",
              " 'https://c.pxhere.com/photos/38/96/dog_puppies_puppy_baby_animal_animal_animals_nature_pets-1168626.jpg!d',\n",
              " 'https://www.publicdomainpictures.net/pictures/60000/velka/dog-chewing-stick.jpg',\n",
              " 'http://pngimg.com/uploads/dog/dog_PNG50375.png',\n",
              " 'https://pngimg.com/uploads/dog/dog_PNG50318.png',\n",
              " 'https://c.pxhere.com/photos/9e/fd/rottweiler_puppy_dog_pet_animal_baby_cute_canine-667690.jpg!d',\n",
              " 'http://upload.wikimedia.org/wikipedia/commons/e/e7/Mad_dog.jpg',\n",
              " 'http://upload.wikimedia.org/wikipedia/commons/0/00/Australian_Cattle_Dog_Naava.jpg',\n",
              " 'https://pngimg.com/uploads/dog/dog_PNG50403.png',\n",
              " 'https://c.pxhere.com/photos/ca/f3/leica_90mm_f28_e55_elmaritr-147667.jpg!d',\n",
              " 'https://c.pxhere.com/photos/0b/52/greyhound_dog_canine_pet_nature_outside_macro_close_up-1132669.jpg!d',\n",
              " 'https://c.pxhere.com/photos/1f/3b/dog_canine_newfoundland_gray_portrait_large_looking_pet-1175095.jpg!d',\n",
              " 'http://pngimg.com/uploads/dog/dog_PNG50406.png',\n",
              " 'http://pngimg.com/uploads/dog/dog_PNG50353.png',\n",
              " 'https://c.pxhere.com/photos/65/a9/dog_felix-193617.jpg!d',\n",
              " 'http://pngimg.com/uploads/dog/dog_PNG50395.png',\n",
              " 'https://c.pxhere.com/photos/dc/58/dog_puppy_breeding-1187155.jpg!d',\n",
              " 'http://upload.wikimedia.org/wikipedia/commons/9/97/Chinese_Crested_Dog.jpg',\n",
              " 'https://pngimg.com/uploads/dog/dog_PNG50314.png',\n",
              " 'https://c.pxhere.com/photos/80/90/animal_dog_german_shepherd_watchdog_pet_young_faithful_confidence-1102120.jpg!d',\n",
              " 'http://upload.wikimedia.org/wikipedia/commons/1/16/Australian_Stumpy_Tail_Cattle_Dog.jpg',\n",
              " 'http://upload.wikimedia.org/wikipedia/commons/a/a9/Kissing_Prairie_dog_edit_3.jpg',\n",
              " 'http://upload.wikimedia.org/wikipedia/commons/2/2e/American_Eskimo_Dog_(Puppy).jpg',\n",
              " 'http://pngimg.com/uploads/dog/dog_PNG50297.png',\n",
              " 'http://upload.wikimedia.org/wikipedia/commons/f/fa/German_Shepherd_Dog_in_Lithuanian_Army.jpg',\n",
              " 'https://c.pxhere.com/photos/37/06/dog_animals_pets_head_labrador_face_race_puppies-752470.jpg!d',\n",
              " 'http://upload.wikimedia.org/wikipedia/commons/2/2d/Licking_dog.jpg',\n",
              " 'https://libreshot.com/wp-content/uploads/2014/09/black-dog-face.jpg',\n",
              " 'https://pngimg.com/uploads/dog/dog_PNG50401.png',\n",
              " 'https://c.pxhere.com/photos/39/f3/dog_animal_friend_looking_blue_eye_pet_cute_tube-1226545.jpg!d',\n",
              " 'https://pngimg.com/uploads/dog/dog_PNG50386.png',\n",
              " 'http://pngimg.com/uploads/dog/dog_PNG50396.png',\n",
              " 'http://upload.wikimedia.org/wikipedia/commons/3/3a/St_Bernard_Dog.jpg',\n",
              " 'http://upload.wikimedia.org/wikipedia/commons/d/dd/St_Bernard_Dog_agility.jpg',\n",
              " 'https://pngimg.com/uploads/dog/dog_PNG50366.png',\n",
              " 'https://pngimg.com/uploads/dog/dog_PNG50374.png',\n",
              " 'https://openclipart.org/image/2400px/svg_to_png/17692/lemmling-Cartoon-dog.png',\n",
              " 'http://upload.wikimedia.org/wikipedia/commons/2/21/Japanese_Chin_dog.jpg',\n",
              " 'http://pngimg.com/uploads/dog/dog_PNG50400.png',\n",
              " 'http://upload.wikimedia.org/wikipedia/commons/3/3d/Komondor_Westminster_Dog_Show_crop.jpg',\n",
              " 'http://upload.wikimedia.org/wikipedia/commons/f/f1/Staffordshire_Bull_Terrier_Westminster_Dog_Show.jpg',\n",
              " 'https://c.pxhere.com/photos/5f/52/dog_ronni_ronja_animal_eyes-1148828.jpg!d',\n",
              " 'http://upload.wikimedia.org/wikipedia/commons/9/95/Dog,_Bullmastiff_-_כלב,_בול_מאסטיף.jpg',\n",
              " 'https://c.pxhere.com/photos/b1/62/dog_black_watchman_chain_while_coming_yard-625007.jpg!d',\n",
              " 'https://pngimg.com/uploads/dog/dog_PNG50376.png',\n",
              " 'https://c.pxhere.com/photos/79/4d/animal_dog_domestic_animal_grass_great_dane_pet-1140736.jpg!d',\n",
              " 'https://c.pxhere.com/photos/21/2f/dog_white_sweet_animal_black_and_white_portrait_pet-580014.jpg!d',\n",
              " 'http://upload.wikimedia.org/wikipedia/commons/f/f5/German-boxer-dog.JPG',\n",
              " 'https://c.pxhere.com/photos/ec/54/dog_pet_black-655877.jpg!d',\n",
              " 'http://upload.wikimedia.org/wikipedia/commons/3/36/Feral_Dog.jpg',\n",
              " 'http://upload.wikimedia.org/wikipedia/commons/f/f2/German_Shepherd_Dog_black.jpg',\n",
              " 'http://silvercreektribune.files.wordpress.com/2014/01/dog-in-snow.jpg',\n",
              " 'https://live.staticflickr.com/124/343334323_8c5d51bcfe_n.jpg',\n",
              " 'http://upload.wikimedia.org/wikipedia/commons/6/69/Catahoula_Leopard_Hound_Dog.jpg',\n",
              " 'https://live.staticflickr.com/7332/10835558164_950ef6d443_n.jpg']"
            ]
          },
          "metadata": {},
          "execution_count": 55
        }
      ]
    }
  ],
  "metadata": {
    "language_info": {
      "name": "python"
    },
    "colab": {
      "provenance": []
    },
    "kernelspec": {
      "name": "python3",
      "display_name": "Python 3"
    }
  },
  "nbformat": 4,
  "nbformat_minor": 0
}